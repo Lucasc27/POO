{
 "cells": [
  {
   "cell_type": "code",
   "execution_count": 4,
   "metadata": {},
   "outputs": [],
   "source": [
    "class Cachorro():\n",
    "    \n",
    "    def __init__(self, nome, raca, idade):\n",
    "        self.nome = nome\n",
    "        self.raca = raca\n",
    "        self.idade = idade\n",
    "        self.temosso = False\n",
    "        \n",
    "    def latir(self):\n",
    "        if self.temosso:\n",
    "            print(\"Não consigo latir. Tenho osso.\")\n",
    "        else:\n",
    "            print(\"Au Au !!!\")\n",
    "            \n",
    "    def pegarOsso(self):\n",
    "        if self.temosso:\n",
    "            print(\"Já tenho osso\")\n",
    "        else:\n",
    "            print(\"Hum... Que osso gostoso!\")\n",
    "            self.temosso = True\n",
    "            \n",
    "    def largaOsso(self):\n",
    "        if self.temosso:\n",
    "            print(\"Larguei o osso.\")\n",
    "            self.temosso = False\n",
    "        else:\n",
    "            print(\"Não tire de mim o que eu não tenho :(\")"
   ]
  },
  {
   "cell_type": "code",
   "execution_count": 5,
   "metadata": {},
   "outputs": [],
   "source": [
    "cachorro1 = Cachorro(\"Rex\", \"Basset\", 1)"
   ]
  },
  {
   "cell_type": "code",
   "execution_count": 9,
   "metadata": {},
   "outputs": [
    {
     "name": "stdout",
     "output_type": "stream",
     "text": [
      "O nome do cachorro é Rex\n",
      "Rex tem 1 ano.\n",
      "A raça do Rex é Basset\n"
     ]
    }
   ],
   "source": [
    "print(\"O nome do cachorro é\", cachorro1.nome)\n",
    "print(\"{} tem {} ano.\".format(cachorro1.nome, cachorro1.idade))\n",
    "print(\"A raça do {} é {}\".format(cachorro1.nome, cachorro1.raca))"
   ]
  },
  {
   "cell_type": "code",
   "execution_count": 11,
   "metadata": {},
   "outputs": [
    {
     "name": "stdout",
     "output_type": "stream",
     "text": [
      "Au Au !!!\n",
      "Não tire de mim o que eu não tenho :(\n",
      "Hum... Que osso gostoso!\n",
      "Não consigo latir. Tenho osso.\n",
      "Larguei o osso.\n",
      "Au Au !!!\n"
     ]
    }
   ],
   "source": [
    "cachorro1.latir() # Au Au\n",
    "cachorro1.largaOsso() # Não tenho osso\n",
    "cachorro1.pegarOsso() # Hum... que osso gostoso\n",
    "cachorro1.latir() # Não consigo latir, tenho osso\n",
    "cachorro1.largaOsso() # Larguei o osso\n",
    "cachorro1.latir() # Au Au"
   ]
  },
  {
   "cell_type": "code",
   "execution_count": null,
   "metadata": {},
   "outputs": [],
   "source": []
  }
 ],
 "metadata": {
  "kernelspec": {
   "display_name": "Python 3",
   "language": "python",
   "name": "python3"
  },
  "language_info": {
   "codemirror_mode": {
    "name": "ipython",
    "version": 3
   },
   "file_extension": ".py",
   "mimetype": "text/x-python",
   "name": "python",
   "nbconvert_exporter": "python",
   "pygments_lexer": "ipython3",
   "version": "3.6.4"
  }
 },
 "nbformat": 4,
 "nbformat_minor": 2
}
