{
 "cells": [
  {
   "cell_type": "markdown",
   "metadata": {},
   "source": [
    "## PFOO\n",
    "### Criando um carro"
   ]
  },
  {
   "cell_type": "code",
   "execution_count": 10,
   "metadata": {},
   "outputs": [],
   "source": [
    "class Carro:\n",
    "    \n",
    "    def __init__(self, modelo, ano, potencia):\n",
    "        self.modelo = modelo\n",
    "        self.ano = ano\n",
    "        self.potencia = potencia\n",
    "        self.velocidade = 0\n",
    "    \n",
    "    def acelerar(self):\n",
    "        self.velocidade += 2*self.potencia\n",
    "        print('Velocidade atual:', self.velocidade)\n",
    "        \n",
    "    def frear(self):\n",
    "        if self.velocidade == 0:\n",
    "            print('Velocidade atual:', self.velocidade)\n",
    "        else:\n",
    "            self.velocidade -= 2*self.potencia\n",
    "            print('Velocidade atual:', self.velocidade)"
   ]
  },
  {
   "cell_type": "code",
   "execution_count": 11,
   "metadata": {},
   "outputs": [],
   "source": [
    "c1 = Carro('Palio', 2010, 3)"
   ]
  },
  {
   "cell_type": "code",
   "execution_count": 13,
   "metadata": {},
   "outputs": [
    {
     "name": "stdout",
     "output_type": "stream",
     "text": [
      "Velocidade inicial: 0\n",
      "Velocidade atual: 6\n",
      "Velocidade atual: 12\n",
      "Velocidade atual: 6\n",
      "Velocidade atual: 0\n",
      "Velocidade atual: 0\n"
     ]
    }
   ],
   "source": [
    "print(\"Velocidade inicial:\", c1.velocidade)\n",
    "c1.acelerar()\n",
    "c1.acelerar()\n",
    "c1.frear()\n",
    "c1.frear()\n",
    "c1.frear()"
   ]
  },
  {
   "cell_type": "code",
   "execution_count": null,
   "metadata": {},
   "outputs": [],
   "source": []
  }
 ],
 "metadata": {
  "kernelspec": {
   "display_name": "Python 3",
   "language": "python",
   "name": "python3"
  },
  "language_info": {
   "codemirror_mode": {
    "name": "ipython",
    "version": 3
   },
   "file_extension": ".py",
   "mimetype": "text/x-python",
   "name": "python",
   "nbconvert_exporter": "python",
   "pygments_lexer": "ipython3",
   "version": "3.6.4"
  }
 },
 "nbformat": 4,
 "nbformat_minor": 2
}
